{
 "cells": [
  {
   "cell_type": "markdown",
   "metadata": {},
   "source": [
    "# 8 Tips for Success - Starting Your Data Science Project\n",
    "By James Wilson"
   ]
  },
  {
   "cell_type": "code",
   "execution_count": 41,
   "metadata": {},
   "outputs": [],
   "source": [
    "## SET UP \n",
    "# -*- coding: utf-8 -*-\n",
    "import pandas as pd"
   ]
  },
  {
   "cell_type": "markdown",
   "metadata": {},
   "source": [
    "# Load Data Sources"
   ]
  },
  {
   "cell_type": "code",
   "execution_count": 42,
   "metadata": {},
   "outputs": [
    {
     "data": {
      "text/html": [
       "<div>\n",
       "<style scoped>\n",
       "    .dataframe tbody tr th:only-of-type {\n",
       "        vertical-align: middle;\n",
       "    }\n",
       "\n",
       "    .dataframe tbody tr th {\n",
       "        vertical-align: top;\n",
       "    }\n",
       "\n",
       "    .dataframe thead th {\n",
       "        text-align: right;\n",
       "    }\n",
       "</style>\n",
       "<table border=\"1\" class=\"dataframe\">\n",
       "  <thead>\n",
       "    <tr style=\"text-align: right;\">\n",
       "      <th></th>\n",
       "      <th>Nickname</th>\n",
       "      <th>Player Details</th>\n",
       "      <th>Final Score</th>\n",
       "      <th>Show Info</th>\n",
       "    </tr>\n",
       "  </thead>\n",
       "  <tbody>\n",
       "    <tr>\n",
       "      <th>0</th>\n",
       "      <td>Jason</td>\n",
       "      <td>Jason Zuffranieri, a math teacher from Albuque...</td>\n",
       "      <td>$27,600</td>\n",
       "      <td>J! Archive - Show #8045, aired 2019-07-26</td>\n",
       "    </tr>\n",
       "    <tr>\n",
       "      <th>1</th>\n",
       "      <td>Maggie</td>\n",
       "      <td>Maggie Lehrman, an editor and writer from Broo...</td>\n",
       "      <td>$0</td>\n",
       "      <td>J! Archive - Show #8045, aired 2019-07-26</td>\n",
       "    </tr>\n",
       "    <tr>\n",
       "      <th>2</th>\n",
       "      <td>Michael</td>\n",
       "      <td>Michael Riggs, an educational therapist from T...</td>\n",
       "      <td>$2</td>\n",
       "      <td>J! Archive - Show #8045, aired 2019-07-26</td>\n",
       "    </tr>\n",
       "    <tr>\n",
       "      <th>3</th>\n",
       "      <td>Jason</td>\n",
       "      <td>Jason Zuffranieri, a math teacher from Albuque...</td>\n",
       "      <td>$4,400</td>\n",
       "      <td>J! Archive - Show #8044, aired 2019-07-25</td>\n",
       "    </tr>\n",
       "    <tr>\n",
       "      <th>4</th>\n",
       "      <td>Eric</td>\n",
       "      <td>Eric Kaplan, a retired OB-GYN physician from L...</td>\n",
       "      <td>$0</td>\n",
       "      <td>J! Archive - Show #8044, aired 2019-07-25</td>\n",
       "    </tr>\n",
       "  </tbody>\n",
       "</table>\n",
       "</div>"
      ],
      "text/plain": [
       "  Nickname                                     Player Details Final Score  \\\n",
       "0    Jason  Jason Zuffranieri, a math teacher from Albuque...    $27,600    \n",
       "1   Maggie  Maggie Lehrman, an editor and writer from Broo...         $0    \n",
       "2  Michael  Michael Riggs, an educational therapist from T...         $2    \n",
       "3    Jason  Jason Zuffranieri, a math teacher from Albuque...     $4,400    \n",
       "4     Eric  Eric Kaplan, a retired OB-GYN physician from L...         $0    \n",
       "\n",
       "                                   Show Info  \n",
       "0  J! Archive - Show #8045, aired 2019-07-26  \n",
       "1  J! Archive - Show #8045, aired 2019-07-26  \n",
       "2  J! Archive - Show #8045, aired 2019-07-26  \n",
       "3  J! Archive - Show #8044, aired 2019-07-25  \n",
       "4  J! Archive - Show #8044, aired 2019-07-25  "
      ]
     },
     "execution_count": 42,
     "metadata": {},
     "output_type": "execute_result"
    }
   ],
   "source": [
    "# Jeopardy Archive Data\n",
    "# Update your working directory (where the file is located)\n",
    "archive = pd.read_csv(\"C:/Users/jwilson2/Desktop/GitHub/UCLA-Intro-Python-Lecture/data/jeopardy_archive_data_raw.csv\")\n",
    "archive.head()"
   ]
  },
  {
   "cell_type": "code",
   "execution_count": 43,
   "metadata": {},
   "outputs": [
    {
     "data": {
      "text/html": [
       "<div>\n",
       "<style scoped>\n",
       "    .dataframe tbody tr th:only-of-type {\n",
       "        vertical-align: middle;\n",
       "    }\n",
       "\n",
       "    .dataframe tbody tr th {\n",
       "        vertical-align: top;\n",
       "    }\n",
       "\n",
       "    .dataframe thead th {\n",
       "        text-align: right;\n",
       "    }\n",
       "</style>\n",
       "<table border=\"1\" class=\"dataframe\">\n",
       "  <thead>\n",
       "    <tr style=\"text-align: right;\">\n",
       "      <th></th>\n",
       "      <th>id</th>\n",
       "      <th>created_at</th>\n",
       "      <th>favorite_count</th>\n",
       "      <th>retweet_count</th>\n",
       "      <th>text</th>\n",
       "    </tr>\n",
       "  </thead>\n",
       "  <tbody>\n",
       "    <tr>\n",
       "      <th>0</th>\n",
       "      <td>1194098342285991938</td>\n",
       "      <td>2019-11-12 03:43:24</td>\n",
       "      <td>78</td>\n",
       "      <td>13</td>\n",
       "      <td>The coolest Jeopardy! story.\\n#WeLoveYouAlex h...</td>\n",
       "    </tr>\n",
       "    <tr>\n",
       "      <th>1</th>\n",
       "      <td>1154934362737205253</td>\n",
       "      <td>2019-07-27 01:59:44</td>\n",
       "      <td>23</td>\n",
       "      <td>2</td>\n",
       "      <td>7/26/19:\\n\"My medical school interview was wit...</td>\n",
       "    </tr>\n",
       "    <tr>\n",
       "      <th>2</th>\n",
       "      <td>1154749896022548481</td>\n",
       "      <td>2019-07-26 13:46:44</td>\n",
       "      <td>12</td>\n",
       "      <td>1</td>\n",
       "      <td>If you are interested in tipping a hat of grat...</td>\n",
       "    </tr>\n",
       "    <tr>\n",
       "      <th>3</th>\n",
       "      <td>1154749838606688257</td>\n",
       "      <td>2019-07-26 13:46:30</td>\n",
       "      <td>165</td>\n",
       "      <td>8</td>\n",
       "      <td>Today is the final day @CoolJepStories posts a...</td>\n",
       "    </tr>\n",
       "    <tr>\n",
       "      <th>4</th>\n",
       "      <td>1154567652465106944</td>\n",
       "      <td>2019-07-26 01:42:33</td>\n",
       "      <td>6</td>\n",
       "      <td>1</td>\n",
       "      <td>7/25/19:\\n\"I like cooking with my 2-year-old s...</td>\n",
       "    </tr>\n",
       "  </tbody>\n",
       "</table>\n",
       "</div>"
      ],
      "text/plain": [
       "                    id           created_at  favorite_count  retweet_count  \\\n",
       "0  1194098342285991938  2019-11-12 03:43:24              78             13   \n",
       "1  1154934362737205253  2019-07-27 01:59:44              23              2   \n",
       "2  1154749896022548481  2019-07-26 13:46:44              12              1   \n",
       "3  1154749838606688257  2019-07-26 13:46:30             165              8   \n",
       "4  1154567652465106944  2019-07-26 01:42:33               6              1   \n",
       "\n",
       "                                                text  \n",
       "0  The coolest Jeopardy! story.\\n#WeLoveYouAlex h...  \n",
       "1  7/26/19:\\n\"My medical school interview was wit...  \n",
       "2  If you are interested in tipping a hat of grat...  \n",
       "3  Today is the final day @CoolJepStories posts a...  \n",
       "4  7/25/19:\\n\"I like cooking with my 2-year-old s...  "
      ]
     },
     "execution_count": 43,
     "metadata": {},
     "output_type": "execute_result"
    }
   ],
   "source": [
    "# @CoolJeopardyStories Twitter Data\n",
    "# Update your working directory (where the file is located)\n",
    "tweets = pd.read_csv('C:/Users/jwilson2/Desktop/GitHub/UCLA-Intro-Python-Lecture/data/CoolJepStories_tweets.csv')\n",
    "tweets.head()"
   ]
  },
  {
   "cell_type": "markdown",
   "metadata": {},
   "source": [
    "# Tip #1 - Evaluate Column Names and Types"
   ]
  },
  {
   "cell_type": "code",
   "execution_count": 44,
   "metadata": {},
   "outputs": [
    {
     "data": {
      "text/plain": [
       "(6000, 4)"
      ]
     },
     "execution_count": 44,
     "metadata": {},
     "output_type": "execute_result"
    }
   ],
   "source": [
    "archive.shape # row and column counts "
   ]
  },
  {
   "cell_type": "code",
   "execution_count": 45,
   "metadata": {},
   "outputs": [
    {
     "name": "stdout",
     "output_type": "stream",
     "text": [
      "<class 'pandas.core.frame.DataFrame'>\n",
      "RangeIndex: 6000 entries, 0 to 5999\n",
      "Data columns (total 4 columns):\n",
      "Nickname          6000 non-null object\n",
      "Player Details    6000 non-null object\n",
      "Final Score       6000 non-null object\n",
      "Show Info         6000 non-null object\n",
      "dtypes: object(4)\n",
      "memory usage: 187.6+ KB\n"
     ]
    }
   ],
   "source": [
    "archive.info() # description of the data objects themselves and an overall picture"
   ]
  },
  {
   "cell_type": "code",
   "execution_count": 46,
   "metadata": {},
   "outputs": [
    {
     "data": {
      "text/plain": [
       "Nickname          object\n",
       "Player Details    object\n",
       "Final Score       object\n",
       "Show Info         object\n",
       "dtype: object"
      ]
     },
     "execution_count": 46,
     "metadata": {},
     "output_type": "execute_result"
    }
   ],
   "source": [
    "archive.dtypes # column types - important!! "
   ]
  },
  {
   "cell_type": "code",
   "execution_count": 47,
   "metadata": {},
   "outputs": [
    {
     "data": {
      "text/plain": [
       "(1620, 5)"
      ]
     },
     "execution_count": 47,
     "metadata": {},
     "output_type": "execute_result"
    }
   ],
   "source": [
    "tweets.shape"
   ]
  },
  {
   "cell_type": "code",
   "execution_count": 48,
   "metadata": {},
   "outputs": [
    {
     "name": "stdout",
     "output_type": "stream",
     "text": [
      "<class 'pandas.core.frame.DataFrame'>\n",
      "RangeIndex: 1620 entries, 0 to 1619\n",
      "Data columns (total 5 columns):\n",
      "id                1620 non-null int64\n",
      "created_at        1620 non-null object\n",
      "favorite_count    1620 non-null int64\n",
      "retweet_count     1620 non-null int64\n",
      "text              1620 non-null object\n",
      "dtypes: int64(3), object(2)\n",
      "memory usage: 63.4+ KB\n"
     ]
    }
   ],
   "source": [
    "tweets.info()"
   ]
  },
  {
   "cell_type": "code",
   "execution_count": 49,
   "metadata": {},
   "outputs": [
    {
     "data": {
      "text/plain": [
       "id                 int64\n",
       "created_at        object\n",
       "favorite_count     int64\n",
       "retweet_count      int64\n",
       "text              object\n",
       "dtype: object"
      ]
     },
     "execution_count": 49,
     "metadata": {},
     "output_type": "execute_result"
    }
   ],
   "source": [
    "tweets.dtypes"
   ]
  },
  {
   "cell_type": "code",
   "execution_count": 50,
   "metadata": {},
   "outputs": [
    {
     "data": {
      "text/plain": [
       "Index(['Nickname', 'Player Details', 'Final Score', 'Show Info'], dtype='object')"
      ]
     },
     "execution_count": 50,
     "metadata": {},
     "output_type": "execute_result"
    }
   ],
   "source": [
    "# Clean Columns \n",
    "archive.columns"
   ]
  },
  {
   "cell_type": "code",
   "execution_count": 51,
   "metadata": {},
   "outputs": [
    {
     "data": {
      "text/plain": [
       "Index(['nickname', 'player_details', 'final_score', 'show_info'], dtype='object')"
      ]
     },
     "execution_count": 51,
     "metadata": {},
     "output_type": "execute_result"
    }
   ],
   "source": [
    "# Map the lowering function to all column names\n",
    "archive.columns = map(str.lower, archive.columns)\n",
    "# replace spaces with '_'\n",
    "archive.columns = archive.columns.str.replace(' ', '_')\n",
    "# review\n",
    "archive.columns"
   ]
  },
  {
   "cell_type": "code",
   "execution_count": 52,
   "metadata": {},
   "outputs": [
    {
     "data": {
      "text/plain": [
       "Index(['id', 'created_at', 'favorite_count', 'retweet_count', 'text'], dtype='object')"
      ]
     },
     "execution_count": 52,
     "metadata": {},
     "output_type": "execute_result"
    }
   ],
   "source": [
    "# Remove unneeded columns\n",
    "tweets.columns"
   ]
  },
  {
   "cell_type": "code",
   "execution_count": 53,
   "metadata": {},
   "outputs": [
    {
     "data": {
      "text/plain": [
       "Index(['favorite_count', 'retweet_count', 'text'], dtype='object')"
      ]
     },
     "execution_count": 53,
     "metadata": {},
     "output_type": "execute_result"
    }
   ],
   "source": [
    "# Use drop and inplace to safetly drop specified columns\n",
    "tweets.drop(['id','created_at'], axis=1, inplace=True)\n",
    "tweets.columns"
   ]
  },
  {
   "cell_type": "markdown",
   "metadata": {},
   "source": [
    "# Tip #2 - Detect NA's; why are they there?"
   ]
  },
  {
   "cell_type": "code",
   "execution_count": 54,
   "metadata": {},
   "outputs": [
    {
     "data": {
      "text/plain": [
       "nickname          0.0\n",
       "player_details    0.0\n",
       "final_score       0.0\n",
       "show_info         0.0\n",
       "dtype: float64"
      ]
     },
     "execution_count": 54,
     "metadata": {},
     "output_type": "execute_result"
    }
   ],
   "source": [
    "archive.isna().mean().round(4)*100"
   ]
  },
  {
   "cell_type": "code",
   "execution_count": 55,
   "metadata": {},
   "outputs": [
    {
     "data": {
      "text/plain": [
       "favorite_count    0.0\n",
       "retweet_count     0.0\n",
       "text              0.0\n",
       "dtype: float64"
      ]
     },
     "execution_count": 55,
     "metadata": {},
     "output_type": "execute_result"
    }
   ],
   "source": [
    "tweets.isna().mean().round(4)*100"
   ]
  },
  {
   "cell_type": "code",
   "execution_count": 56,
   "metadata": {},
   "outputs": [],
   "source": [
    "### Any NA's ? "
   ]
  },
  {
   "cell_type": "markdown",
   "metadata": {},
   "source": [
    "# Tip #3 - String Cleaning & Variable Creation"
   ]
  },
  {
   "cell_type": "markdown",
   "metadata": {},
   "source": [
    "### Clean Final Score"
   ]
  },
  {
   "cell_type": "code",
   "execution_count": 57,
   "metadata": {},
   "outputs": [
    {
     "name": "stdout",
     "output_type": "stream",
     "text": [
      "0    $27,600 \n",
      "1         $0 \n",
      "2         $2 \n",
      "3     $4,400 \n",
      "4         $0 \n",
      "5         $0 \n",
      "6    $30,000 \n",
      "7     $3,000 \n",
      "8     $6,100 \n",
      "9    $12,400 \n",
      "Name: final_score, dtype: object\n"
     ]
    }
   ],
   "source": [
    "print(archive[\"final_score\"][0:10])"
   ]
  },
  {
   "cell_type": "code",
   "execution_count": 58,
   "metadata": {},
   "outputs": [
    {
     "name": "stdout",
     "output_type": "stream",
     "text": [
      "0    27600\n",
      "1        0\n",
      "2        2\n",
      "3     4400\n",
      "4        0\n",
      "5        0\n",
      "6    30000\n",
      "7     3000\n",
      "8     6100\n",
      "9    12400\n",
      "Name: final_score, dtype: int32\n"
     ]
    }
   ],
   "source": [
    "archive[\"final_score\"] = archive[\"final_score\"].str.replace(',', '') # replace comma\n",
    "archive[\"final_score\"] = archive[\"final_score\"].str.replace('$', '') # replace '$'\n",
    "archive[\"final_score\"] = archive[\"final_score\"].astype(int) # convert to integer\n",
    "print(archive[\"final_score\"][0:10])"
   ]
  },
  {
   "cell_type": "markdown",
   "metadata": {},
   "source": [
    "### Extract Player Details "
   ]
  },
  {
   "cell_type": "code",
   "execution_count": 59,
   "metadata": {},
   "outputs": [
    {
     "name": "stdout",
     "output_type": "stream",
     "text": [
      "Jason Zuffranieri, a math teacher from Albuquerque, New Mexico (whose 5-day cash winnings total $109,700)\n"
     ]
    }
   ],
   "source": [
    "print(archive[\"player_details\"][0])"
   ]
  },
  {
   "cell_type": "code",
   "execution_count": 60,
   "metadata": {},
   "outputs": [
    {
     "name": "stdout",
     "output_type": "stream",
     "text": [
      "Peggy Robin, a publisher and chief moderator from Washington, D.C.\n"
     ]
    }
   ],
   "source": [
    "print(archive[\"player_details\"][10])"
   ]
  },
  {
   "cell_type": "code",
   "execution_count": 61,
   "metadata": {},
   "outputs": [
    {
     "name": "stdout",
     "output_type": "stream",
     "text": [
      "Nathan Kaplan, a math professor from Los Angeles, California\n"
     ]
    }
   ],
   "source": [
    "print(archive[\"player_details\"][20])"
   ]
  },
  {
   "cell_type": "code",
   "execution_count": 62,
   "metadata": {},
   "outputs": [],
   "source": [
    "for i in range(0,len(archive)):\n",
    "    # extract player details \n",
    "    archive.at[i,\"full_name\"] = archive[\"player_details\"].iloc[i].split(\",\")[0]\n",
    "    archive.at[i,\"occcupation\"] = archive[\"player_details\"].iloc[i].split(\",\")[1].split(\"from\")[0].strip()\n",
    "    archive.at[i,\"hometown\"] = archive[\"player_details\"].iloc[i].split(\"from\")[1].split(\"(\")[0].strip()"
   ]
  },
  {
   "cell_type": "markdown",
   "metadata": {},
   "source": [
    "### Extract Show Info"
   ]
  },
  {
   "cell_type": "code",
   "execution_count": 63,
   "metadata": {},
   "outputs": [
    {
     "name": "stdout",
     "output_type": "stream",
     "text": [
      "J! Archive - Show #8045, aired 2019-07-26\n"
     ]
    }
   ],
   "source": [
    "print(archive[\"show_info\"][0])"
   ]
  },
  {
   "cell_type": "code",
   "execution_count": 64,
   "metadata": {},
   "outputs": [
    {
     "name": "stdout",
     "output_type": "stream",
     "text": [
      "J! Archive - Show #8041, aired 2019-07-22\n"
     ]
    }
   ],
   "source": [
    "print(archive[\"show_info\"][12])"
   ]
  },
  {
   "cell_type": "code",
   "execution_count": 65,
   "metadata": {},
   "outputs": [],
   "source": [
    "for i in range(0,len(archive)):\n",
    "    # extract show info \n",
    "    archive.at[i,\"archive_info\"] = archive[\"show_info\"].iloc[i].split(\", aired\")[0].strip()\n",
    "    archive.at[i,\"date\"] = archive[\"show_info\"].iloc[i].split(\", aired\")[1].strip()"
   ]
  },
  {
   "cell_type": "markdown",
   "metadata": {},
   "source": [
    "### Total Running Score"
   ]
  },
  {
   "cell_type": "code",
   "execution_count": null,
   "metadata": {},
   "outputs": [],
   "source": [
    "\n",
    "\n"
   ]
  },
  {
   "cell_type": "markdown",
   "metadata": {},
   "source": [
    "### City and state values "
   ]
  },
  {
   "cell_type": "code",
   "execution_count": 66,
   "metadata": {},
   "outputs": [],
   "source": [
    "archive.loc[:,'city'] = \"\"\n",
    "archive.loc[:,'city'] = archive.loc[:,'hometown'].str.split(',',expand=True)[0]\n",
    "archive.loc[:,'city'] = archive.loc[:,'city'].str.strip()\n",
    "\n",
    "archive.loc[:,'state'] = \"\"\n",
    "archive.loc[:,'state'] = archive.loc[:,'hometown'].str.split(',',expand=True)[1]\n",
    "archive.loc[:,'state'] = archive.loc[:,'state'].str.strip()"
   ]
  },
  {
   "cell_type": "markdown",
   "metadata": {},
   "source": [
    "### Extract fun facts and show date from tweet"
   ]
  },
  {
   "cell_type": "code",
   "execution_count": 67,
   "metadata": {},
   "outputs": [
    {
     "data": {
      "text/plain": [
       "'The coolest Jeopardy! story.\\n#WeLoveYouAlex https://t.co/P02SrYHoO0'"
      ]
     },
     "execution_count": 67,
     "metadata": {},
     "output_type": "execute_result"
    }
   ],
   "source": [
    "tweets[\"text\"][0] # not a good tweet"
   ]
  },
  {
   "cell_type": "code",
   "execution_count": 68,
   "metadata": {},
   "outputs": [
    {
     "data": {
      "text/plain": [
       "'7/26/19:\\n\"My medical school interview was with a @Jeopardy! contestant who fell to @KenJennings.\"\\n\"The children\\'s\\' book industry is phenomenal.\"\\n\"A movie editor in France has a similar name to mine.\"\\n#Jeopardy https://t.co/NUhCad6Nwh'"
      ]
     },
     "execution_count": 68,
     "metadata": {},
     "output_type": "execute_result"
    }
   ],
   "source": [
    "tweets[\"text\"][1] # good tweet~! "
   ]
  },
  {
   "cell_type": "code",
   "execution_count": 69,
   "metadata": {},
   "outputs": [],
   "source": [
    "# Flag just relevant tweets \n",
    "tweets[\"game_info_flg\"] = \"\"\n",
    "\n",
    "#subset to just game events\n",
    "for i in range(0,len(tweets)):\n",
    "    tweets.at[i,'game_info_flg'] = tweets['text'][i][0].isnumeric() # flag where numeric start to text \n",
    "\n",
    "tweets_games = tweets[tweets[\"game_info_flg\"] == True]\n",
    "tweets_games.reset_index(drop=True, inplace=True)\n"
   ]
  },
  {
   "cell_type": "code",
   "execution_count": 70,
   "metadata": {},
   "outputs": [
    {
     "name": "stderr",
     "output_type": "stream",
     "text": [
      "C:\\Users\\jwilson2\\AppData\\Local\\Continuum\\anaconda3\\lib\\site-packages\\pandas\\core\\indexing.py:376: SettingWithCopyWarning: \n",
      "A value is trying to be set on a copy of a slice from a DataFrame.\n",
      "Try using .loc[row_indexer,col_indexer] = value instead\n",
      "\n",
      "See the caveats in the documentation: http://pandas.pydata.org/pandas-docs/stable/user_guide/indexing.html#returning-a-view-versus-a-copy\n",
      "  self.obj[key] = _infer_fill_value(value)\n"
     ]
    }
   ],
   "source": [
    "# set variables \n",
    "\n",
    "for i in range(0,len(tweets_games)):\n",
    "    twt_txt = tweets_games[\"text\"].loc[i].split(\"\\n\") # split tweets at new line \n",
    "    \n",
    "    # split and save as a new row \n",
    "    \n",
    "    tweets_games.loc[i,\"date\"] = twt_txt[0]\n",
    "    tweets_games.loc[i,\"answer1\"] = twt_txt[1]\n",
    "    tweets_games.loc[i,\"answer2\"] = twt_txt[2]\n",
    "    \n",
    "    if(len(twt_txt) > 3): # nuance in data; need to check for third answer if string is long enough \n",
    "        tweets_games.loc[i,\"answer3\"] = twt_txt[3]\n",
    "\n"
   ]
  },
  {
   "cell_type": "code",
   "execution_count": null,
   "metadata": {},
   "outputs": [],
   "source": [
    "tweets_games[\"date\"] = \"\"\n",
    "tweets_games[\"answer1\"] = \"\"\n",
    "tweets_games[\"answer2\"] = \"\"\n",
    "tweets_games[\"answer3\"] = \"\""
   ]
  },
  {
   "cell_type": "code",
   "execution_count": 71,
   "metadata": {},
   "outputs": [
    {
     "data": {
      "text/html": [
       "<div>\n",
       "<style scoped>\n",
       "    .dataframe tbody tr th:only-of-type {\n",
       "        vertical-align: middle;\n",
       "    }\n",
       "\n",
       "    .dataframe tbody tr th {\n",
       "        vertical-align: top;\n",
       "    }\n",
       "\n",
       "    .dataframe thead th {\n",
       "        text-align: right;\n",
       "    }\n",
       "</style>\n",
       "<table border=\"1\" class=\"dataframe\">\n",
       "  <thead>\n",
       "    <tr style=\"text-align: right;\">\n",
       "      <th></th>\n",
       "      <th>favorite_count</th>\n",
       "      <th>retweet_count</th>\n",
       "      <th>text</th>\n",
       "      <th>game_info_flg</th>\n",
       "      <th>date</th>\n",
       "      <th>answer1</th>\n",
       "      <th>answer2</th>\n",
       "      <th>answer3</th>\n",
       "    </tr>\n",
       "  </thead>\n",
       "  <tbody>\n",
       "    <tr>\n",
       "      <th>0</th>\n",
       "      <td>23</td>\n",
       "      <td>2</td>\n",
       "      <td>7/26/19:\\n\"My medical school interview was wit...</td>\n",
       "      <td>True</td>\n",
       "      <td>7/26/19:</td>\n",
       "      <td>\"My medical school interview was with a @Jeopa...</td>\n",
       "      <td>\"The children's' book industry is phenomenal.\"</td>\n",
       "      <td>\"A movie editor in France has a similar name t...</td>\n",
       "    </tr>\n",
       "    <tr>\n",
       "      <th>1</th>\n",
       "      <td>6</td>\n",
       "      <td>1</td>\n",
       "      <td>7/25/19:\\n\"I like cooking with my 2-year-old s...</td>\n",
       "      <td>True</td>\n",
       "      <td>7/25/19:</td>\n",
       "      <td>\"I like cooking with my 2-year-old son.\"</td>\n",
       "      <td>\"Chuck Norris' aunt thought I looked justl ike...</td>\n",
       "      <td>\"It took me seconds to 'win' a game of anti-ch...</td>\n",
       "    </tr>\n",
       "    <tr>\n",
       "      <th>2</th>\n",
       "      <td>8</td>\n",
       "      <td>3</td>\n",
       "      <td>7/24/19:\\n“I played drums in a rhythmic troupe...</td>\n",
       "      <td>True</td>\n",
       "      <td>7/24/19:</td>\n",
       "      <td>“I played drums in a rhythmic troupe.”</td>\n",
       "      <td>“I had to memorize the Gettysburg Address.”</td>\n",
       "      <td>“In Mexico, I was mistaken for Nicolas Cage.”</td>\n",
       "    </tr>\n",
       "    <tr>\n",
       "      <th>3</th>\n",
       "      <td>5</td>\n",
       "      <td>0</td>\n",
       "      <td>7/23/19:\\n\"I like telling dad jokes.\"\\n\"I run ...</td>\n",
       "      <td>True</td>\n",
       "      <td>7/23/19:</td>\n",
       "      <td>\"I like telling dad jokes.\"</td>\n",
       "      <td>\"I run an online forum to talk about the neigh...</td>\n",
       "      <td>\"My stuffed manatee is a comfort animal in my ...</td>\n",
       "    </tr>\n",
       "    <tr>\n",
       "      <th>4</th>\n",
       "      <td>6</td>\n",
       "      <td>0</td>\n",
       "      <td>7/22/19:\\n\"I explain forensic science to kids ...</td>\n",
       "      <td>True</td>\n",
       "      <td>7/22/19:</td>\n",
       "      <td>\"I explain forensic science to kids using the ...</td>\n",
       "      <td>\"I went to Spain &amp;amp; ran into a lady who was...</td>\n",
       "      <td>\"I travel around the world playing Sudoku.\"</td>\n",
       "    </tr>\n",
       "  </tbody>\n",
       "</table>\n",
       "</div>"
      ],
      "text/plain": [
       "   favorite_count  retweet_count  \\\n",
       "0              23              2   \n",
       "1               6              1   \n",
       "2               8              3   \n",
       "3               5              0   \n",
       "4               6              0   \n",
       "\n",
       "                                                text game_info_flg      date  \\\n",
       "0  7/26/19:\\n\"My medical school interview was wit...          True  7/26/19:   \n",
       "1  7/25/19:\\n\"I like cooking with my 2-year-old s...          True  7/25/19:   \n",
       "2  7/24/19:\\n“I played drums in a rhythmic troupe...          True  7/24/19:   \n",
       "3  7/23/19:\\n\"I like telling dad jokes.\"\\n\"I run ...          True  7/23/19:   \n",
       "4  7/22/19:\\n\"I explain forensic science to kids ...          True  7/22/19:   \n",
       "\n",
       "                                             answer1  \\\n",
       "0  \"My medical school interview was with a @Jeopa...   \n",
       "1           \"I like cooking with my 2-year-old son.\"   \n",
       "2             “I played drums in a rhythmic troupe.”   \n",
       "3                        \"I like telling dad jokes.\"   \n",
       "4  \"I explain forensic science to kids using the ...   \n",
       "\n",
       "                                             answer2  \\\n",
       "0     \"The children's' book industry is phenomenal.\"   \n",
       "1  \"Chuck Norris' aunt thought I looked justl ike...   \n",
       "2        “I had to memorize the Gettysburg Address.”   \n",
       "3  \"I run an online forum to talk about the neigh...   \n",
       "4  \"I went to Spain &amp; ran into a lady who was...   \n",
       "\n",
       "                                             answer3  \n",
       "0  \"A movie editor in France has a similar name t...  \n",
       "1  \"It took me seconds to 'win' a game of anti-ch...  \n",
       "2      “In Mexico, I was mistaken for Nicolas Cage.”  \n",
       "3  \"My stuffed manatee is a comfort animal in my ...  \n",
       "4        \"I travel around the world playing Sudoku.\"  "
      ]
     },
     "execution_count": 71,
     "metadata": {},
     "output_type": "execute_result"
    }
   ],
   "source": [
    "tweets_games.head()"
   ]
  },
  {
   "cell_type": "markdown",
   "metadata": {},
   "source": [
    "# Tip #4 - Date Conversions "
   ]
  },
  {
   "cell_type": "code",
   "execution_count": 72,
   "metadata": {},
   "outputs": [
    {
     "name": "stdout",
     "output_type": "stream",
     "text": [
      "0       2019-07-26\n",
      "1       2019-07-26\n",
      "2       2019-07-26\n",
      "3       2019-07-25\n",
      "4       2019-07-25\n",
      "           ...    \n",
      "5995    2010-12-21\n",
      "5996    2010-12-21\n",
      "5997    2010-12-20\n",
      "5998    2010-12-20\n",
      "5999    2010-12-20\n",
      "Name: date, Length: 6000, dtype: object\n"
     ]
    }
   ],
   "source": [
    "# Create correct show date times \n",
    "print(archive['date'])"
   ]
  },
  {
   "cell_type": "code",
   "execution_count": 85,
   "metadata": {},
   "outputs": [
    {
     "name": "stdout",
     "output_type": "stream",
     "text": [
      "0      2019-07-26\n",
      "1      2019-07-26\n",
      "2      2019-07-26\n",
      "3      2019-07-25\n",
      "4      2019-07-25\n",
      "          ...    \n",
      "5995   2010-12-21\n",
      "5996   2010-12-21\n",
      "5997   2010-12-20\n",
      "5998   2010-12-20\n",
      "5999   2010-12-20\n",
      "Name: date, Length: 6000, dtype: datetime64[ns]\n"
     ]
    }
   ],
   "source": [
    "pd.to_datetime(archive['date'])\n",
    "print(archive['date'])"
   ]
  },
  {
   "cell_type": "code",
   "execution_count": 86,
   "metadata": {},
   "outputs": [
    {
     "name": "stdout",
     "output_type": "stream",
     "text": [
      "0      2019-07-26\n",
      "1      2019-07-25\n",
      "2      2019-07-24\n",
      "3      2019-07-23\n",
      "4      2019-07-22\n",
      "          ...    \n",
      "1404   2014-02-17\n",
      "1405   2014-02-14\n",
      "1406   2014-02-13\n",
      "1407   2014-02-12\n",
      "1408   2014-02-11\n",
      "Name: date, Length: 1409, dtype: datetime64[ns]\n"
     ]
    }
   ],
   "source": [
    "print(tweets_games['date'])"
   ]
  },
  {
   "cell_type": "code",
   "execution_count": 87,
   "metadata": {},
   "outputs": [
    {
     "name": "stdout",
     "output_type": "stream",
     "text": [
      "0      2019-07-26\n",
      "1      2019-07-25\n",
      "2      2019-07-24\n",
      "3      2019-07-23\n",
      "4      2019-07-22\n",
      "          ...    \n",
      "1404   2014-02-17\n",
      "1405   2014-02-14\n",
      "1406   2014-02-13\n",
      "1407   2014-02-12\n",
      "1408   2014-02-11\n",
      "Name: date, Length: 1409, dtype: datetime64[ns]\n"
     ]
    }
   ],
   "source": [
    "tweets_games['date'].replace(regex=True,inplace=True,to_replace=r':',value=r'')\n",
    "pd.to_datetime(tweets_games['date'])\n",
    "print(tweets_games['date'])"
   ]
  },
  {
   "cell_type": "markdown",
   "metadata": {},
   "source": [
    "# Tip #5 - Join Relevant Data Fields"
   ]
  },
  {
   "cell_type": "markdown",
   "metadata": {},
   "source": [
    "### Join the data together on show date & etc. "
   ]
  },
  {
   "cell_type": "code",
   "execution_count": 79,
   "metadata": {},
   "outputs": [
    {
     "data": {
      "text/html": [
       "<div>\n",
       "<style scoped>\n",
       "    .dataframe tbody tr th:only-of-type {\n",
       "        vertical-align: middle;\n",
       "    }\n",
       "\n",
       "    .dataframe tbody tr th {\n",
       "        vertical-align: top;\n",
       "    }\n",
       "\n",
       "    .dataframe thead th {\n",
       "        text-align: right;\n",
       "    }\n",
       "</style>\n",
       "<table border=\"1\" class=\"dataframe\">\n",
       "  <thead>\n",
       "    <tr style=\"text-align: right;\">\n",
       "      <th></th>\n",
       "      <th>favorite_count</th>\n",
       "      <th>retweet_count</th>\n",
       "      <th>text</th>\n",
       "      <th>game_info_flg</th>\n",
       "      <th>date</th>\n",
       "      <th>answer1</th>\n",
       "      <th>answer2</th>\n",
       "      <th>answer3</th>\n",
       "    </tr>\n",
       "  </thead>\n",
       "  <tbody>\n",
       "    <tr>\n",
       "      <th>0</th>\n",
       "      <td>23</td>\n",
       "      <td>2</td>\n",
       "      <td>7/26/19:\\n\"My medical school interview was wit...</td>\n",
       "      <td>True</td>\n",
       "      <td>2019-07-26</td>\n",
       "      <td>\"My medical school interview was with a @Jeopa...</td>\n",
       "      <td>\"The children's' book industry is phenomenal.\"</td>\n",
       "      <td>\"A movie editor in France has a similar name t...</td>\n",
       "    </tr>\n",
       "    <tr>\n",
       "      <th>1</th>\n",
       "      <td>6</td>\n",
       "      <td>1</td>\n",
       "      <td>7/25/19:\\n\"I like cooking with my 2-year-old s...</td>\n",
       "      <td>True</td>\n",
       "      <td>2019-07-25</td>\n",
       "      <td>\"I like cooking with my 2-year-old son.\"</td>\n",
       "      <td>\"Chuck Norris' aunt thought I looked justl ike...</td>\n",
       "      <td>\"It took me seconds to 'win' a game of anti-ch...</td>\n",
       "    </tr>\n",
       "    <tr>\n",
       "      <th>2</th>\n",
       "      <td>8</td>\n",
       "      <td>3</td>\n",
       "      <td>7/24/19:\\n“I played drums in a rhythmic troupe...</td>\n",
       "      <td>True</td>\n",
       "      <td>2019-07-24</td>\n",
       "      <td>“I played drums in a rhythmic troupe.”</td>\n",
       "      <td>“I had to memorize the Gettysburg Address.”</td>\n",
       "      <td>“In Mexico, I was mistaken for Nicolas Cage.”</td>\n",
       "    </tr>\n",
       "    <tr>\n",
       "      <th>3</th>\n",
       "      <td>5</td>\n",
       "      <td>0</td>\n",
       "      <td>7/23/19:\\n\"I like telling dad jokes.\"\\n\"I run ...</td>\n",
       "      <td>True</td>\n",
       "      <td>2019-07-23</td>\n",
       "      <td>\"I like telling dad jokes.\"</td>\n",
       "      <td>\"I run an online forum to talk about the neigh...</td>\n",
       "      <td>\"My stuffed manatee is a comfort animal in my ...</td>\n",
       "    </tr>\n",
       "    <tr>\n",
       "      <th>4</th>\n",
       "      <td>6</td>\n",
       "      <td>0</td>\n",
       "      <td>7/22/19:\\n\"I explain forensic science to kids ...</td>\n",
       "      <td>True</td>\n",
       "      <td>2019-07-22</td>\n",
       "      <td>\"I explain forensic science to kids using the ...</td>\n",
       "      <td>\"I went to Spain &amp;amp; ran into a lady who was...</td>\n",
       "      <td>\"I travel around the world playing Sudoku.\"</td>\n",
       "    </tr>\n",
       "  </tbody>\n",
       "</table>\n",
       "</div>"
      ],
      "text/plain": [
       "   favorite_count  retweet_count  \\\n",
       "0              23              2   \n",
       "1               6              1   \n",
       "2               8              3   \n",
       "3               5              0   \n",
       "4               6              0   \n",
       "\n",
       "                                                text game_info_flg       date  \\\n",
       "0  7/26/19:\\n\"My medical school interview was wit...          True 2019-07-26   \n",
       "1  7/25/19:\\n\"I like cooking with my 2-year-old s...          True 2019-07-25   \n",
       "2  7/24/19:\\n“I played drums in a rhythmic troupe...          True 2019-07-24   \n",
       "3  7/23/19:\\n\"I like telling dad jokes.\"\\n\"I run ...          True 2019-07-23   \n",
       "4  7/22/19:\\n\"I explain forensic science to kids ...          True 2019-07-22   \n",
       "\n",
       "                                             answer1  \\\n",
       "0  \"My medical school interview was with a @Jeopa...   \n",
       "1           \"I like cooking with my 2-year-old son.\"   \n",
       "2             “I played drums in a rhythmic troupe.”   \n",
       "3                        \"I like telling dad jokes.\"   \n",
       "4  \"I explain forensic science to kids using the ...   \n",
       "\n",
       "                                             answer2  \\\n",
       "0     \"The children's' book industry is phenomenal.\"   \n",
       "1  \"Chuck Norris' aunt thought I looked justl ike...   \n",
       "2        “I had to memorize the Gettysburg Address.”   \n",
       "3  \"I run an online forum to talk about the neigh...   \n",
       "4  \"I went to Spain &amp; ran into a lady who was...   \n",
       "\n",
       "                                             answer3  \n",
       "0  \"A movie editor in France has a similar name t...  \n",
       "1  \"It took me seconds to 'win' a game of anti-ch...  \n",
       "2      “In Mexico, I was mistaken for Nicolas Cage.”  \n",
       "3  \"My stuffed manatee is a comfort animal in my ...  \n",
       "4        \"I travel around the world playing Sudoku.\"  "
      ]
     },
     "execution_count": 79,
     "metadata": {},
     "output_type": "execute_result"
    }
   ],
   "source": [
    "tweets_games.head()"
   ]
  },
  {
   "cell_type": "code",
   "execution_count": 78,
   "metadata": {},
   "outputs": [
    {
     "data": {
      "text/html": [
       "<div>\n",
       "<style scoped>\n",
       "    .dataframe tbody tr th:only-of-type {\n",
       "        vertical-align: middle;\n",
       "    }\n",
       "\n",
       "    .dataframe tbody tr th {\n",
       "        vertical-align: top;\n",
       "    }\n",
       "\n",
       "    .dataframe thead th {\n",
       "        text-align: right;\n",
       "    }\n",
       "</style>\n",
       "<table border=\"1\" class=\"dataframe\">\n",
       "  <thead>\n",
       "    <tr style=\"text-align: right;\">\n",
       "      <th></th>\n",
       "      <th>nickname</th>\n",
       "      <th>player_details</th>\n",
       "      <th>final_score</th>\n",
       "      <th>show_info</th>\n",
       "      <th>full_name</th>\n",
       "      <th>occcupation</th>\n",
       "      <th>hometown</th>\n",
       "      <th>archive_info</th>\n",
       "      <th>date</th>\n",
       "      <th>city</th>\n",
       "      <th>state</th>\n",
       "    </tr>\n",
       "  </thead>\n",
       "  <tbody>\n",
       "    <tr>\n",
       "      <th>0</th>\n",
       "      <td>Jason</td>\n",
       "      <td>Jason Zuffranieri, a math teacher from Albuque...</td>\n",
       "      <td>27600</td>\n",
       "      <td>J! Archive - Show #8045, aired 2019-07-26</td>\n",
       "      <td>Jason Zuffranieri</td>\n",
       "      <td>a math teacher</td>\n",
       "      <td>Albuquerque, New Mexico</td>\n",
       "      <td>J! Archive - Show #8045</td>\n",
       "      <td>2019-07-26</td>\n",
       "      <td>Albuquerque</td>\n",
       "      <td>New Mexico</td>\n",
       "    </tr>\n",
       "    <tr>\n",
       "      <th>1</th>\n",
       "      <td>Maggie</td>\n",
       "      <td>Maggie Lehrman, an editor and writer from Broo...</td>\n",
       "      <td>0</td>\n",
       "      <td>J! Archive - Show #8045, aired 2019-07-26</td>\n",
       "      <td>Maggie Lehrman</td>\n",
       "      <td>an editor and writer</td>\n",
       "      <td>Brooklyn, New York</td>\n",
       "      <td>J! Archive - Show #8045</td>\n",
       "      <td>2019-07-26</td>\n",
       "      <td>Brooklyn</td>\n",
       "      <td>New York</td>\n",
       "    </tr>\n",
       "    <tr>\n",
       "      <th>2</th>\n",
       "      <td>Michael</td>\n",
       "      <td>Michael Riggs, an educational therapist from T...</td>\n",
       "      <td>2</td>\n",
       "      <td>J! Archive - Show #8045, aired 2019-07-26</td>\n",
       "      <td>Michael Riggs</td>\n",
       "      <td>an educational therapist</td>\n",
       "      <td>Tustin, California</td>\n",
       "      <td>J! Archive - Show #8045</td>\n",
       "      <td>2019-07-26</td>\n",
       "      <td>Tustin</td>\n",
       "      <td>California</td>\n",
       "    </tr>\n",
       "    <tr>\n",
       "      <th>3</th>\n",
       "      <td>Jason</td>\n",
       "      <td>Jason Zuffranieri, a math teacher from Albuque...</td>\n",
       "      <td>4400</td>\n",
       "      <td>J! Archive - Show #8044, aired 2019-07-25</td>\n",
       "      <td>Jason Zuffranieri</td>\n",
       "      <td>a math teacher</td>\n",
       "      <td>Albuquerque, New Mexico</td>\n",
       "      <td>J! Archive - Show #8044</td>\n",
       "      <td>2019-07-25</td>\n",
       "      <td>Albuquerque</td>\n",
       "      <td>New Mexico</td>\n",
       "    </tr>\n",
       "    <tr>\n",
       "      <th>4</th>\n",
       "      <td>Eric</td>\n",
       "      <td>Eric Kaplan, a retired OB-GYN physician from L...</td>\n",
       "      <td>0</td>\n",
       "      <td>J! Archive - Show #8044, aired 2019-07-25</td>\n",
       "      <td>Eric Kaplan</td>\n",
       "      <td>a retired OB-GYN physician</td>\n",
       "      <td>Long Beach, California</td>\n",
       "      <td>J! Archive - Show #8044</td>\n",
       "      <td>2019-07-25</td>\n",
       "      <td>Long Beach</td>\n",
       "      <td>California</td>\n",
       "    </tr>\n",
       "  </tbody>\n",
       "</table>\n",
       "</div>"
      ],
      "text/plain": [
       "  nickname                                     player_details  final_score  \\\n",
       "0    Jason  Jason Zuffranieri, a math teacher from Albuque...        27600   \n",
       "1   Maggie  Maggie Lehrman, an editor and writer from Broo...            0   \n",
       "2  Michael  Michael Riggs, an educational therapist from T...            2   \n",
       "3    Jason  Jason Zuffranieri, a math teacher from Albuque...         4400   \n",
       "4     Eric  Eric Kaplan, a retired OB-GYN physician from L...            0   \n",
       "\n",
       "                                   show_info          full_name  \\\n",
       "0  J! Archive - Show #8045, aired 2019-07-26  Jason Zuffranieri   \n",
       "1  J! Archive - Show #8045, aired 2019-07-26     Maggie Lehrman   \n",
       "2  J! Archive - Show #8045, aired 2019-07-26      Michael Riggs   \n",
       "3  J! Archive - Show #8044, aired 2019-07-25  Jason Zuffranieri   \n",
       "4  J! Archive - Show #8044, aired 2019-07-25        Eric Kaplan   \n",
       "\n",
       "                  occcupation                 hometown  \\\n",
       "0              a math teacher  Albuquerque, New Mexico   \n",
       "1        an editor and writer       Brooklyn, New York   \n",
       "2    an educational therapist       Tustin, California   \n",
       "3              a math teacher  Albuquerque, New Mexico   \n",
       "4  a retired OB-GYN physician   Long Beach, California   \n",
       "\n",
       "              archive_info       date         city       state  \n",
       "0  J! Archive - Show #8045 2019-07-26  Albuquerque  New Mexico  \n",
       "1  J! Archive - Show #8045 2019-07-26     Brooklyn    New York  \n",
       "2  J! Archive - Show #8045 2019-07-26       Tustin  California  \n",
       "3  J! Archive - Show #8044 2019-07-25  Albuquerque  New Mexico  \n",
       "4  J! Archive - Show #8044 2019-07-25   Long Beach  California  "
      ]
     },
     "execution_count": 78,
     "metadata": {},
     "output_type": "execute_result"
    }
   ],
   "source": [
    "archive.head()"
   ]
  },
  {
   "cell_type": "code",
   "execution_count": null,
   "metadata": {},
   "outputs": [],
   "source": [
    "# Reformat Data\n",
    "# Melt twitter data \n",
    "tweets_df = pd.melt(game_tweets, id_vars =['id', 'created_at', 'favorite_count', 'retweet_count', 'text',\n",
    "       'game_info_flg', 'date'], var_name=\"answer_number\")\n"
   ]
  },
  {
   "cell_type": "code",
   "execution_count": null,
   "metadata": {},
   "outputs": [],
   "source": [
    "# Add \"Answer\" variable to twitter \n",
    "    #IMPORTANT - reverse order of answers for archive data to match how twitter account was organized\n",
    "archive[\"answer_number\"] = \"\"\n",
    "archive['dt_indx'] = archive.groupby(['Date']).cumcount()+1\n",
    "archive.loc[archive_df[\"dt_indx\"]==1,\"answer_number\"] = \"Answer3\"\n",
    "archive.loc[archive_df[\"dt_indx\"]==2,\"answer_number\"] = \"Answer2\"\n",
    "archive.loc[archive_df[\"dt_indx\"]==3,\"answer_number\"] = \"Answer1\""
   ]
  },
  {
   "cell_type": "code",
   "execution_count": null,
   "metadata": {},
   "outputs": [],
   "source": [
    "# Merge Data Files\n",
    "jeopardy = pd.merge(archive,tweets_df, on=['date','answer_number'])\n",
    "jeopardy.head(10)"
   ]
  },
  {
   "cell_type": "markdown",
   "metadata": {},
   "source": [
    "# Tip #6 - Numeric summaries and outlier detection"
   ]
  },
  {
   "cell_type": "code",
   "execution_count": 34,
   "metadata": {},
   "outputs": [],
   "source": [
    "# Explore money amounts \n",
    "\n"
   ]
  },
  {
   "cell_type": "code",
   "execution_count": 35,
   "metadata": {},
   "outputs": [],
   "source": [
    "# Understand "
   ]
  },
  {
   "cell_type": "code",
   "execution_count": null,
   "metadata": {},
   "outputs": [],
   "source": [
    "\n"
   ]
  },
  {
   "cell_type": "markdown",
   "metadata": {},
   "source": [
    "# Tip #7 - Create frequency tables"
   ]
  },
  {
   "cell_type": "code",
   "execution_count": 36,
   "metadata": {},
   "outputs": [],
   "source": [
    "# State Values per $$ "
   ]
  },
  {
   "cell_type": "code",
   "execution_count": null,
   "metadata": {},
   "outputs": [],
   "source": [
    "state_counts = jeopardy_df.groupby('state')['Full Name'].agg(['count']).reset_index()\n",
    "state_counts.sort_values(by=['count'], ascending=False,inplace=True)\n",
    "state_counts.head(25)"
   ]
  },
  {
   "cell_type": "code",
   "execution_count": null,
   "metadata": {},
   "outputs": [],
   "source": []
  },
  {
   "cell_type": "markdown",
   "metadata": {},
   "source": [
    "# Tip #8 - Build graphics to explore ideas"
   ]
  },
  {
   "cell_type": "code",
   "execution_count": 37,
   "metadata": {},
   "outputs": [],
   "source": [
    "# Simple State map by player count "
   ]
  },
  {
   "cell_type": "code",
   "execution_count": null,
   "metadata": {},
   "outputs": [],
   "source": [
    "import plotly.express as px\n",
    "fig = px.bar(state_counts, x='state', y='count',color='count',\n",
    "             labels={'state':'State', 'count':\"Count\"}, height=400)\n",
    "fig.show()"
   ]
  },
  {
   "cell_type": "code",
   "execution_count": 38,
   "metadata": {},
   "outputs": [],
   "source": [
    "# Distribution of scores over time "
   ]
  },
  {
   "cell_type": "code",
   "execution_count": null,
   "metadata": {},
   "outputs": [],
   "source": []
  },
  {
   "cell_type": "markdown",
   "metadata": {},
   "source": [
    "# You know your data!! Now create some cool insights! "
   ]
  }
 ],
 "metadata": {
  "kernelspec": {
   "display_name": "Python 3",
   "language": "python",
   "name": "python3"
  },
  "language_info": {
   "codemirror_mode": {
    "name": "ipython",
    "version": 3
   },
   "file_extension": ".py",
   "mimetype": "text/x-python",
   "name": "python",
   "nbconvert_exporter": "python",
   "pygments_lexer": "ipython3",
   "version": "3.7.6"
  }
 },
 "nbformat": 4,
 "nbformat_minor": 2
}
